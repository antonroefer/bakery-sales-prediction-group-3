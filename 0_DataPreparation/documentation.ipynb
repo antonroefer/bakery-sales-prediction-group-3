{
 "cells": [
  {
   "cell_type": "markdown",
   "id": "8ab31af0",
   "metadata": {},
   "source": [
    "# Data Frame Shaping\n",
    "\n",
    "## To-Do's 15.05.2025\n",
    "\n",
    "Temperature Categorization - Konstantin\n",
    "\n",
    "Finding New Attributes, 3 missing days weather data fill - Anton\n",
    "\n",
    "Translate Weather Code into Attributes - Georgia"
   ]
  },
  {
   "cell_type": "markdown",
   "id": "1ce3fa72",
   "metadata": {},
   "source": []
  }
 ],
 "metadata": {
  "language_info": {
   "name": "python"
  }
 },
 "nbformat": 4,
 "nbformat_minor": 5
}
